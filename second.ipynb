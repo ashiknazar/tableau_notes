{
 "cells": [
  {
   "cell_type": "markdown",
   "metadata": {},
   "source": [
    "<img src=\"screenshots/eight.png\" alt=\"eight products\" width=\"400\" height=\"300\">"
   ]
  },
  {
   "cell_type": "markdown",
   "metadata": {},
   "source": [
    "##### 8 products classified as developer tools and sharing tools\n",
    "- DEVELOPER TOOLS\n",
    "  - desktop \n",
    "  - public\n",
    "  - prep\n",
    "- SHARING TOOLS\n",
    "\n",
    "  - server\n",
    "  - cloud \n",
    "  - public cloud\n",
    "  - reader\n",
    "  - mobile\n"
   ]
  },
  {
   "cell_type": "markdown",
   "metadata": {},
   "source": [
    "##### DEVELOPER TOOLS ARE DIVIDED FURTHER\n",
    "  - data engineering tools \n",
    "    - PREP\n",
    "  - data visualizatio tools\n",
    "    - DESKTOP\n",
    "    - PUBLIC"
   ]
  },
  {
   "cell_type": "markdown",
   "metadata": {},
   "source": [
    "<img src=\"screenshots/process.png\" alt=\"eight products\" width=\"400\" height=\"300\">"
   ]
  },
  {
   "cell_type": "markdown",
   "metadata": {},
   "source": [
    "### Data prep\n",
    "- connect data\n",
    "- Build flows(clean,combine,aggregate)\n",
    "- Publish flows & data sources "
   ]
  },
  {
   "cell_type": "markdown",
   "metadata": {},
   "source": [
    "### comparison"
   ]
  },
  {
   "cell_type": "markdown",
   "metadata": {},
   "source": [
    "<img src=\"screenshots/comparison.png\" alt=\"eight products\" width=\"400\" height=\"300\">"
   ]
  },
  {
   "cell_type": "markdown",
   "metadata": {},
   "source": [
    "\n",
    "<img src=\"screenshots/selection_strategy.png\" alt=\"selection of product\" width=\"600\" height=\"400\">"
   ]
  },
  {
   "cell_type": "markdown",
   "metadata": {},
   "source": [
    "\n",
    "<img src=\"screenshots/SHARE.png\" alt=\"selection of product\" width=\"600\" height=\"400\">"
   ]
  },
  {
   "cell_type": "markdown",
   "metadata": {},
   "source": [
    "<img src=\"screenshots/onpremise.png\" alt=\"selection of product\" width=\"600\" height=\"400\">"
   ]
  },
  {
   "cell_type": "markdown",
   "metadata": {},
   "source": [
    "\n",
    "<img src=\"screenshots/iaas.png\" alt=\"selection of product\" width=\"600\" height=\"400\">"
   ]
  },
  {
   "cell_type": "markdown",
   "metadata": {
    "vscode": {
     "languageId": "plaintext"
    }
   },
   "source": [
    "<img src=\"screenshots/saas.png\" alt=\"selection of product\" width=\"600\" height=\"400\">"
   ]
  },
  {
   "cell_type": "markdown",
   "metadata": {
    "vscode": {
     "languageId": "plaintext"
    }
   },
   "source": [
    "\n",
    "<img src=\"screenshots/diff.png\" alt=\"selection of product\" width=\"600\" height=\"400\">"
   ]
  },
  {
   "cell_type": "markdown",
   "metadata": {},
   "source": [
    "##### tableau server/cloud where we share\n",
    "- user can give role user management\n",
    "- automate tasks (refresh regularly)\n",
    "- task monitoring\n",
    "- if users are given enough power they can create views\n",
    "- "
   ]
  },
  {
   "cell_type": "markdown",
   "metadata": {},
   "source": [
    "#### tableau reader\n",
    "- created early,before cloud or server available\n",
    "- free just view,no data refresh\n",
    "- no security\n",
    "- to send to individuals\n",
    "\n",
    "#### tableau mobile\n",
    "- free to download need license to use\n",
    "- smarphone/tablet\n",
    "- only to view\n",
    "- can connect to tableau server,cloud and not to public\n",
    "- cash report and dashbords,accessable in offline\n",
    "\n",
    "\n"
   ]
  },
  {
   "cell_type": "markdown",
   "metadata": {},
   "source": [
    "<img src=\"screenshots/differ.png\" alt=\"selection of product\" width=\"600\" height=\"400\">"
   ]
  },
  {
   "cell_type": "markdown",
   "metadata": {},
   "source": [
    "<img src=\"screenshots/comp_dec.png\" alt=\"selection of product\" width=\"600\" height=\"400\">\n",
    "<img src=\"screenshots/deci.png\" alt=\"selection of product\" width=\"600\" height=\"400\">"
   ]
  },
  {
   "cell_type": "markdown",
   "metadata": {},
   "source": [
    "### TABLEAU ARCHITECTURE"
   ]
  },
  {
   "cell_type": "markdown",
   "metadata": {},
   "source": [
    "###### Live vs Extract data connections\n",
    "- Do we need extra copy of data inside tableau\n",
    "  - no. when visualization needs data send queries to source.fresh /live connection\n",
    "  - yes,snapshot/subset of data copied to tableau.extract.fast \n"
   ]
  },
  {
   "cell_type": "markdown",
   "metadata": {},
   "source": [
    "<img src=\"screenshots/live_extract.png\" alt=\"selection of product\" width=\"600\" height=\"400\">"
   ]
  },
  {
   "cell_type": "markdown",
   "metadata": {},
   "source": [
    "- for better performance -> extract\n",
    "- for data freshness ->live\n"
   ]
  },
  {
   "cell_type": "markdown",
   "metadata": {},
   "source": [
    "#### TABLEAU FILE TYPES"
   ]
  },
  {
   "cell_type": "markdown",
   "metadata": {},
   "source": [
    "- only data is shared ->extract <b>.HYPER </b>format\n",
    "- if i have done a lot of work in data source.created models,new columns,renamed,... not allowed to share data,sharing metadata and connection details.  <b>.TDS </b> format. \n",
    "   - By sharing connection details instead of the actual data, organizations can retain control over their data security, manage access more effectively, and minimize the risk of misuse or data leaks. This approach ensures that data is accessed appropriately while maintaining the integrity and confidentiality of the information.\n",
    "- extract , data source -> <b>.TDSX</b>\n",
    "- files with visualizations but not data  <b> .TWB </b>\n",
    "- data,datasource,visualizations <b>.TWBX</b>\n",
    "\n",
    "\n"
   ]
  },
  {
   "cell_type": "markdown",
   "metadata": {},
   "source": [
    "<img src=\"screenshots/DATA.png\" alt=\"selection of product\" width=\"600\" height=\"400\">"
   ]
  },
  {
   "cell_type": "markdown",
   "metadata": {},
   "source": [
    "<img src=\"screenshots/DATAS.png\" alt=\"selection of product\" width=\"600\" height=\"400\">\n"
   ]
  },
  {
   "cell_type": "markdown",
   "metadata": {},
   "source": [
    "- TABLEAU uses two types of data to store workbook\n",
    "   - meta data (xml)\n",
    "   - data (hyper)\n",
    "   "
   ]
  },
  {
   "cell_type": "markdown",
   "metadata": {},
   "source": [
    "<img src=\"screenshots/layers.png\" alt=\"layers\" width=\"600\" height=\"400\">"
   ]
  },
  {
   "cell_type": "markdown",
   "metadata": {},
   "source": [
    "-  Source  \n",
    "  - outside of tableau\n",
    "- Desktop\n",
    "  - data source\n",
    "     - conntect data to tableau \n",
    "     - 2 type of connections live and extrac\n",
    "     - start building model\n",
    "  - visulaization\n",
    "     - tableau organizes visualizations in 3 level  \n",
    "        - worksheet (data blending connects two data sources to one worksheet)\n",
    "        - dashboard(different worksheets can be imported to one dashboard)\n",
    "        - story\n",
    "        \n",
    "\n",
    "\n",
    "\n",
    "\n",
    "  "
   ]
  },
  {
   "cell_type": "markdown",
   "metadata": {},
   "source": [
    "<img src=\"screenshots/viz.png\" alt=\"layers\" width=\"600\" height=\"400\">"
   ]
  },
  {
   "cell_type": "markdown",
   "metadata": {},
   "source": [
    "<img src=\"screenshots/layer_s.png\" alt=\"layers\" width=\"600\" height=\"400\">"
   ]
  },
  {
   "cell_type": "markdown",
   "metadata": {},
   "source": [
    "<img src=\"screenshots/cons.png\" alt=\"layers\" width=\"600\" height=\"400\">"
   ]
  },
  {
   "cell_type": "markdown",
   "metadata": {},
   "source": [
    "### publish"
   ]
  },
  {
   "cell_type": "markdown",
   "metadata": {},
   "source": [
    "<img src=\"screenshots/publish.png\" alt=\"layers\" width=\"600\" height=\"400\">"
   ]
  },
  {
   "cell_type": "markdown",
   "metadata": {},
   "source": [
    "### AUTHENTICATION"
   ]
  },
  {
   "cell_type": "markdown",
   "metadata": {},
   "source": [
    "<img src=\"screenshots/178.png\" alt=\"layers\" width=\"600\" height=\"400\">\n",
    "<img src=\"screenshots/179.png\" alt=\"layers\" width=\"600\" height=\"400\">\n",
    "<img src=\"screenshots/180.png\" alt=\"layers\" width=\"600\" height=\"400\">\n",
    "<img src=\"screenshots/181.png\" alt=\"layers\" width=\"600\" height=\"400\">"
   ]
  },
  {
   "cell_type": "markdown",
   "metadata": {},
   "source": [
    "<img src=\"screenshots/184.png\" alt=\"layers\" width=\"600\" height=\"400\">\n",
    "<img src=\"screenshots/185.png\" alt=\"layers\" width=\"600\" height=\"400\">\n",
    "<img src=\"screenshots/186.png\" alt=\"layers\" width=\"600\" height=\"400\">\n",
    "<img src=\"screenshots/187.png\" alt=\"layers\" width=\"600\" height=\"400\">\n",
    "<img src=\"screenshots/188.png\" alt=\"layers\" width=\"600\" height=\"400\">\n",
    "<img src=\"screenshots/189.png\" alt=\"layers\" width=\"600\" height=\"400\">\n",
    "<img src=\"screenshots/190.png\" alt=\"layers\" width=\"600\" height=\"400\">\n",
    "<img src=\"screenshots/Screenshot (201).png\" alt=\"layers\" width=\"600\" height=\"400\">\n",
    "<img src=\"screenshots/Screenshot (205).png\" alt=\"layers\" width=\"600\" height=\"400\">\n",
    "<img src=\"screenshots/Screenshot (206).png\" alt=\"layers\" width=\"600\" height=\"400\">"
   ]
  },
  {
   "cell_type": "markdown",
   "metadata": {},
   "source": []
  },
  {
   "cell_type": "markdown",
   "metadata": {},
   "source": []
  }
 ],
 "metadata": {
  "kernelspec": {
   "display_name": "base",
   "language": "python",
   "name": "python3"
  },
  "language_info": {
   "codemirror_mode": {
    "name": "ipython",
    "version": 3
   },
   "file_extension": ".py",
   "mimetype": "text/x-python",
   "name": "python",
   "nbconvert_exporter": "python",
   "pygments_lexer": "ipython3",
   "version": "3.12.4"
  }
 },
 "nbformat": 4,
 "nbformat_minor": 2
}
