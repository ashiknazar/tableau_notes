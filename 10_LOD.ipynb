{
 "cells": [
  {
   "cell_type": "markdown",
   "metadata": {},
   "source": [
    "- sum(sales)\n",
    "   - **highest level of aggregations**\n",
    "   - level 1"
   ]
  },
  {
   "cell_type": "markdown",
   "metadata": {},
   "source": []
  },
  {
   "cell_type": "markdown",
   "metadata": {},
   "source": [
    "- category \n",
    "   - level 2\n",
    "- country\n",
    "   - level 3"
   ]
  },
  {
   "cell_type": "markdown",
   "metadata": {},
   "source": [
    "![](Screenshots/lll.png)"
   ]
  },
  {
   "cell_type": "markdown",
   "metadata": {},
   "source": [
    "- orderid is the **highest level of details(Granularity)** ,we dont have any other fields that break this into more details"
   ]
  },
  {
   "cell_type": "markdown",
   "metadata": {},
   "source": [
    "____"
   ]
  },
  {
   "cell_type": "markdown",
   "metadata": {},
   "source": [
    "rows:category,product name\n",
    "text:sum(sales)"
   ]
  },
  {
   "cell_type": "markdown",
   "metadata": {},
   "source": [
    "- we need to show product names ,but when we need to show category wise sum of sales also.since product names are dragged only product based sales will be shown "
   ]
  },
  {
   "cell_type": "markdown",
   "metadata": {},
   "source": [
    "#### Lod \n",
    "- aggregate the rows at the dimension level used in the calculation\n",
    "- dimension of visualization will not control level of details\n",
    "- level of detail is the LOD EXPRESSION\n",
    "- CALCULATIONS are performed on the data within the data source\n",
    "- results are calculated on fly"
   ]
  },
  {
   "cell_type": "markdown",
   "metadata": {},
   "source": [
    "#### level of detail\n",
    "- total sales  | level 1\n",
    "- category     |   level 2\n",
    "- country    | level 3\n",
    "- product name | level 4\n",
    "- order id | level 5"
   ]
  },
  {
   "cell_type": "markdown",
   "metadata": {},
   "source": [
    "____"
   ]
  },
  {
   "cell_type": "markdown",
   "metadata": {},
   "source": [
    "#### LOD FUNCTIONS"
   ]
  },
  {
   "cell_type": "markdown",
   "metadata": {},
   "source": [
    "- Static -> fixed\n",
    "- Dynamic - > include|exclude"
   ]
  },
  {
   "cell_type": "markdown",
   "metadata": {},
   "source": [
    "![](Screenshots/lod.png)"
   ]
  },
  {
   "cell_type": "markdown",
   "metadata": {},
   "source": [
    "LOD EXPRESSION SYNTAX"
   ]
  },
  {
   "cell_type": "markdown",
   "metadata": {},
   "source": [
    "![](screenshots/lodd.png)"
   ]
  },
  {
   "cell_type": "markdown",
   "metadata": {},
   "source": [
    "___\n",
    "![](Screenshots/loa.png)"
   ]
  },
  {
   "cell_type": "markdown",
   "metadata": {},
   "source": [
    "___"
   ]
  },
  {
   "cell_type": "markdown",
   "metadata": {},
   "source": [
    "![](Screenshots/lob.png)"
   ]
  },
  {
   "cell_type": "markdown",
   "metadata": {},
   "source": [
    "- create calculated field \n",
    "  - Sales by category"
   ]
  },
  {
   "cell_type": "markdown",
   "metadata": {},
   "source": [
    " {FIXED [ Category]: SUM([Sales])}"
   ]
  },
  {
   "cell_type": "markdown",
   "metadata": {},
   "source": [
    "![](Screenshots/lo.png)"
   ]
  },
  {
   "cell_type": "markdown",
   "metadata": {},
   "source": [
    "- loyality of customers\n",
    "- show the distribution of customers by number of orders\n",
    "   - no of customers\n",
    "   - no of orders\n",
    "- no of orders majority of customers are ordering"
   ]
  },
  {
   "cell_type": "markdown",
   "metadata": {},
   "source": [
    " - Columns:CNT(Orders)\n",
    " - Rows:Customer Id\n",
    " - 29 orders for cutomer 351\n",
    " - 25 orders for customers 422,342,52..\n",
    " "
   ]
  },
  {
   "cell_type": "markdown",
   "metadata": {},
   "source": [
    "- created calculated field for calculating no.of orders per customer\n",
    " - ```  {FIXED [Customer ID]:COUNT([Order ID])} ```"
   ]
  },
  {
   "cell_type": "markdown",
   "metadata": {},
   "source": [
    "- place it in columns\n",
    "- customers (count) -> Rows\n"
   ]
  },
  {
   "cell_type": "markdown",
   "metadata": {},
   "source": []
  }
 ],
 "metadata": {
  "kernelspec": {
   "display_name": "base",
   "language": "python",
   "name": "python3"
  },
  "language_info": {
   "codemirror_mode": {
    "name": "ipython",
    "version": 3
   },
   "file_extension": ".py",
   "mimetype": "text/x-python",
   "name": "python",
   "nbconvert_exporter": "python",
   "pygments_lexer": "ipython3",
   "version": "3.12.7"
  }
 },
 "nbformat": 4,
 "nbformat_minor": 2
}
